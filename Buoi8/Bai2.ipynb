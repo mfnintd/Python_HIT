{
 "cells": [
  {
   "cell_type": "code",
   "execution_count": 1,
   "id": "fe990e65",
   "metadata": {},
   "outputs": [],
   "source": [
    "import numpy as np\n",
    "import pandas as pd\n",
    "import matplotlib.pyplot as plt\n",
    "from sklearn.impute import SimpleImputer"
   ]
  },
  {
   "cell_type": "code",
   "execution_count": 2,
   "id": "6562de63",
   "metadata": {},
   "outputs": [
    {
     "data": {
      "text/html": [
       "<div>\n",
       "<style scoped>\n",
       "    .dataframe tbody tr th:only-of-type {\n",
       "        vertical-align: middle;\n",
       "    }\n",
       "\n",
       "    .dataframe tbody tr th {\n",
       "        vertical-align: top;\n",
       "    }\n",
       "\n",
       "    .dataframe thead th {\n",
       "        text-align: right;\n",
       "    }\n",
       "</style>\n",
       "<table border=\"1\" class=\"dataframe\">\n",
       "  <thead>\n",
       "    <tr style=\"text-align: right;\">\n",
       "      <th></th>\n",
       "      <th>Age</th>\n",
       "      <th>EstimatedSalary</th>\n",
       "      <th>Purchased</th>\n",
       "    </tr>\n",
       "  </thead>\n",
       "  <tbody>\n",
       "    <tr>\n",
       "      <th>0</th>\n",
       "      <td>19</td>\n",
       "      <td>19000.0</td>\n",
       "      <td>0.0</td>\n",
       "    </tr>\n",
       "    <tr>\n",
       "      <th>1</th>\n",
       "      <td>35</td>\n",
       "      <td>20000.0</td>\n",
       "      <td>0.0</td>\n",
       "    </tr>\n",
       "    <tr>\n",
       "      <th>2</th>\n",
       "      <td>26</td>\n",
       "      <td>43000.0</td>\n",
       "      <td>0.0</td>\n",
       "    </tr>\n",
       "    <tr>\n",
       "      <th>3</th>\n",
       "      <td>27</td>\n",
       "      <td>57000.0</td>\n",
       "      <td>0.0</td>\n",
       "    </tr>\n",
       "    <tr>\n",
       "      <th>4</th>\n",
       "      <td>19</td>\n",
       "      <td>76000.0</td>\n",
       "      <td>0.0</td>\n",
       "    </tr>\n",
       "    <tr>\n",
       "      <th>...</th>\n",
       "      <td>...</td>\n",
       "      <td>...</td>\n",
       "      <td>...</td>\n",
       "    </tr>\n",
       "    <tr>\n",
       "      <th>395</th>\n",
       "      <td>46</td>\n",
       "      <td>41000.0</td>\n",
       "      <td>1.0</td>\n",
       "    </tr>\n",
       "    <tr>\n",
       "      <th>396</th>\n",
       "      <td>51</td>\n",
       "      <td>23000.0</td>\n",
       "      <td>1.0</td>\n",
       "    </tr>\n",
       "    <tr>\n",
       "      <th>397</th>\n",
       "      <td>50</td>\n",
       "      <td>20000.0</td>\n",
       "      <td>1.0</td>\n",
       "    </tr>\n",
       "    <tr>\n",
       "      <th>398</th>\n",
       "      <td>36</td>\n",
       "      <td>33000.0</td>\n",
       "      <td>0.0</td>\n",
       "    </tr>\n",
       "    <tr>\n",
       "      <th>399</th>\n",
       "      <td>49</td>\n",
       "      <td>36000.0</td>\n",
       "      <td>1.0</td>\n",
       "    </tr>\n",
       "  </tbody>\n",
       "</table>\n",
       "<p>400 rows × 3 columns</p>\n",
       "</div>"
      ],
      "text/plain": [
       "     Age  EstimatedSalary  Purchased\n",
       "0     19          19000.0        0.0\n",
       "1     35          20000.0        0.0\n",
       "2     26          43000.0        0.0\n",
       "3     27          57000.0        0.0\n",
       "4     19          76000.0        0.0\n",
       "..   ...              ...        ...\n",
       "395   46          41000.0        1.0\n",
       "396   51          23000.0        1.0\n",
       "397   50          20000.0        1.0\n",
       "398   36          33000.0        0.0\n",
       "399   49          36000.0        1.0\n",
       "\n",
       "[400 rows x 3 columns]"
      ]
     },
     "execution_count": 2,
     "metadata": {},
     "output_type": "execute_result"
    }
   ],
   "source": [
    "DF = pd.read_csv('Social_Network_Ads_2.csv')\n",
    "DF"
   ]
  },
  {
   "cell_type": "code",
   "execution_count": 3,
   "id": "9663bb56",
   "metadata": {},
   "outputs": [
    {
     "name": "stdout",
     "output_type": "stream",
     "text": [
      "<class 'pandas.core.frame.DataFrame'>\n",
      "RangeIndex: 400 entries, 0 to 399\n",
      "Data columns (total 3 columns):\n",
      " #   Column           Non-Null Count  Dtype  \n",
      "---  ------           --------------  -----  \n",
      " 0   Age              400 non-null    int64  \n",
      " 1   EstimatedSalary  397 non-null    float64\n",
      " 2   Purchased        398 non-null    float64\n",
      "dtypes: float64(2), int64(1)\n",
      "memory usage: 9.5 KB\n"
     ]
    }
   ],
   "source": [
    "DF.info()\n",
    "# Kiểm tra thông tin Data Frame nhận được"
   ]
  },
  {
   "cell_type": "code",
   "execution_count": 4,
   "id": "86228aea",
   "metadata": {},
   "outputs": [
    {
     "data": {
      "text/plain": [
       "0.0"
      ]
     },
     "execution_count": 4,
     "metadata": {},
     "output_type": "execute_result"
    }
   ],
   "source": [
    "DF1 = DF.copy()\n",
    "DF1['Purchased'].median()\n",
    "\n",
    "# Copy data frame và xem xét một số thông tin,\n",
    "# Quyết định lấy giá trị để xử lý missing data cho cột Purchased là median \n",
    "# bởi vì giá trị trung bình của cột thông tin này sẽ không phải 0 hoặc 1"
   ]
  },
  {
   "cell_type": "code",
   "execution_count": 5,
   "id": "1e62d21e",
   "metadata": {},
   "outputs": [],
   "source": [
    "imputerSalary = SimpleImputer(missing_values=np.NaN, strategy='mean')\n",
    "imputerPurchased = SimpleImputer(missing_values=np.NaN, strategy='median')\n",
    "# Sử dụng Simple Imputer để xử lý missing data"
   ]
  },
  {
   "cell_type": "code",
   "execution_count": 6,
   "id": "5ea20bbf",
   "metadata": {},
   "outputs": [
    {
     "name": "stdout",
     "output_type": "stream",
     "text": [
      "<class 'pandas.core.frame.DataFrame'>\n",
      "RangeIndex: 400 entries, 0 to 399\n",
      "Data columns (total 3 columns):\n",
      " #   Column           Non-Null Count  Dtype  \n",
      "---  ------           --------------  -----  \n",
      " 0   Age              400 non-null    int64  \n",
      " 1   EstimatedSalary  400 non-null    float64\n",
      " 2   Purchased        400 non-null    float64\n",
      "dtypes: float64(2), int64(1)\n",
      "memory usage: 9.5 KB\n"
     ]
    }
   ],
   "source": [
    "DF1[['EstimatedSalary']] = imputerSalary.fit_transform(DF1[['EstimatedSalary']])\n",
    "DF1[['Purchased']] = imputerPurchased.fit_transform(DF1[['Purchased']])\n",
    "DF1.info()\n",
    "\n",
    "#Xử lý missing data và kiểm tra lại thông tin"
   ]
  },
  {
   "cell_type": "code",
   "execution_count": 7,
   "id": "00152ce5",
   "metadata": {},
   "outputs": [
    {
     "data": {
      "text/html": [
       "<div>\n",
       "<style scoped>\n",
       "    .dataframe tbody tr th:only-of-type {\n",
       "        vertical-align: middle;\n",
       "    }\n",
       "\n",
       "    .dataframe tbody tr th {\n",
       "        vertical-align: top;\n",
       "    }\n",
       "\n",
       "    .dataframe thead th {\n",
       "        text-align: right;\n",
       "    }\n",
       "</style>\n",
       "<table border=\"1\" class=\"dataframe\">\n",
       "  <thead>\n",
       "    <tr style=\"text-align: right;\">\n",
       "      <th></th>\n",
       "      <th>Age</th>\n",
       "      <th>EstimatedSalary</th>\n",
       "      <th>Status</th>\n",
       "    </tr>\n",
       "  </thead>\n",
       "  <tbody>\n",
       "    <tr>\n",
       "      <th>0</th>\n",
       "      <td>19</td>\n",
       "      <td>19000.0</td>\n",
       "      <td>Chưa mua</td>\n",
       "    </tr>\n",
       "    <tr>\n",
       "      <th>1</th>\n",
       "      <td>35</td>\n",
       "      <td>20000.0</td>\n",
       "      <td>Chưa mua</td>\n",
       "    </tr>\n",
       "    <tr>\n",
       "      <th>2</th>\n",
       "      <td>26</td>\n",
       "      <td>43000.0</td>\n",
       "      <td>Chưa mua</td>\n",
       "    </tr>\n",
       "    <tr>\n",
       "      <th>3</th>\n",
       "      <td>27</td>\n",
       "      <td>57000.0</td>\n",
       "      <td>Chưa mua</td>\n",
       "    </tr>\n",
       "    <tr>\n",
       "      <th>4</th>\n",
       "      <td>19</td>\n",
       "      <td>76000.0</td>\n",
       "      <td>Chưa mua</td>\n",
       "    </tr>\n",
       "    <tr>\n",
       "      <th>...</th>\n",
       "      <td>...</td>\n",
       "      <td>...</td>\n",
       "      <td>...</td>\n",
       "    </tr>\n",
       "    <tr>\n",
       "      <th>395</th>\n",
       "      <td>46</td>\n",
       "      <td>41000.0</td>\n",
       "      <td>Đã mua</td>\n",
       "    </tr>\n",
       "    <tr>\n",
       "      <th>396</th>\n",
       "      <td>51</td>\n",
       "      <td>23000.0</td>\n",
       "      <td>Đã mua</td>\n",
       "    </tr>\n",
       "    <tr>\n",
       "      <th>397</th>\n",
       "      <td>50</td>\n",
       "      <td>20000.0</td>\n",
       "      <td>Đã mua</td>\n",
       "    </tr>\n",
       "    <tr>\n",
       "      <th>398</th>\n",
       "      <td>36</td>\n",
       "      <td>33000.0</td>\n",
       "      <td>Chưa mua</td>\n",
       "    </tr>\n",
       "    <tr>\n",
       "      <th>399</th>\n",
       "      <td>49</td>\n",
       "      <td>36000.0</td>\n",
       "      <td>Đã mua</td>\n",
       "    </tr>\n",
       "  </tbody>\n",
       "</table>\n",
       "<p>400 rows × 3 columns</p>\n",
       "</div>"
      ],
      "text/plain": [
       "     Age  EstimatedSalary    Status\n",
       "0     19          19000.0  Chưa mua\n",
       "1     35          20000.0  Chưa mua\n",
       "2     26          43000.0  Chưa mua\n",
       "3     27          57000.0  Chưa mua\n",
       "4     19          76000.0  Chưa mua\n",
       "..   ...              ...       ...\n",
       "395   46          41000.0    Đã mua\n",
       "396   51          23000.0    Đã mua\n",
       "397   50          20000.0    Đã mua\n",
       "398   36          33000.0  Chưa mua\n",
       "399   49          36000.0    Đã mua\n",
       "\n",
       "[400 rows x 3 columns]"
      ]
     },
     "execution_count": 7,
     "metadata": {},
     "output_type": "execute_result"
    }
   ],
   "source": [
    "DF1['Purchased'].replace(1.0, 'Đã mua', inplace=True)\n",
    "DF1['Purchased'].replace(0.0, 'Chưa mua', inplace=True)\n",
    "# Thay thế các giá trị 1.0 thành Đã mua và 0.0 thành Chưa mua\n",
    "\n",
    "DF1 = DF1.rename(columns={'Purchased': 'Status'})\n",
    "#Đổi tên cột Purchased thành cột Status\n",
    "\n",
    "DF1"
   ]
  },
  {
   "cell_type": "code",
   "execution_count": 8,
   "id": "bff3594e",
   "metadata": {},
   "outputs": [
    {
     "name": "stdout",
     "output_type": "stream",
     "text": [
      "<class 'pandas.core.frame.DataFrame'>\n",
      "RangeIndex: 400 entries, 0 to 399\n",
      "Data columns (total 3 columns):\n",
      " #   Column           Non-Null Count  Dtype  \n",
      "---  ------           --------------  -----  \n",
      " 0   Age              400 non-null    int64  \n",
      " 1   EstimatedSalary  400 non-null    float64\n",
      " 2   Status           400 non-null    object \n",
      "dtypes: float64(1), int64(1), object(1)\n",
      "memory usage: 9.5+ KB\n"
     ]
    }
   ],
   "source": [
    "DF1.info()\n",
    "# Check lại thông tin"
   ]
  },
  {
   "cell_type": "code",
   "execution_count": 9,
   "id": "1c37db17",
   "metadata": {},
   "outputs": [
    {
     "data": {
      "text/plain": [
       "<matplotlib.legend.Legend at 0x13a6d494a60>"
      ]
     },
     "execution_count": 9,
     "metadata": {},
     "output_type": "execute_result"
    },
    {
     "data": {
      "image/png": "[encoded data removed]",
      "text/plain": [
       "<Figure size 432x288 with 1 Axes>"
      ]
     },
     "metadata": {
      "needs_background": "light"
     },
     "output_type": "display_data"
    }
   ],
   "source": [
    "Buyed = {row['Age']: row['EstimatedSalary'] for i, row in DF1.iterrows() if row['Status'] == 'Đã mua'}\n",
    "notBuyedYet = {row['Age']: row['EstimatedSalary'] for i, row in DF1.iterrows() if row['Status'] == 'Chưa mua'}\n",
    "# Tách lấy thông tin riêng cho Đã mua và Chưa mua\n",
    "\n",
    "width = 0.5\n",
    "plt.bar(Buyed.keys(), Buyed.values(), width, color='g', label='Đã mua')\n",
    "plt.bar(notBuyedYet.keys(), notBuyedYet.values(), width, color='r', label='Chưa mua')\n",
    "# Vẽ biểu đồ cột cho 2 loại Đã mua và Chưa mua cùng với màu tương ứng\n",
    "\n",
    "plt.xlabel('Age')\n",
    "plt.ylabel('Estimated Salary')\n",
    "plt.legend()"
   ]
  },
  {
   "cell_type": "code",
   "execution_count": 10,
   "id": "d777e827",
   "metadata": {},
   "outputs": [
    {
     "data": {
      "text/plain": [
       "Text(0, 0.5, 'Estimated Salary')"
      ]
     },
     "execution_count": 10,
     "metadata": {},
     "output_type": "execute_result"
    },
    {
     "data": {
      "image/png": "[encoded data removed]",
      "text/plain": [
       "<Figure size 432x288 with 1 Axes>"
      ]
     },
     "metadata": {
      "needs_background": "light"
     },
     "output_type": "display_data"
    }
   ],
   "source": [
    "color = np.array(['violet' if status == 'Đã mua' else 'red' for status in DF1['Status']])\n",
    "# Tạo mảng màu cho Trạng thái đã mua hoặc Chưa mua tương ứng\n",
    "\n",
    "plt.scatter(DF1['Age'].values, DF1['EstimatedSalary'].values, c=color)\n",
    "# Vẽ biểu đồ scatter dựa trên giá trị của Tuổi và Lương cùng với màu là mảng màu đã tạo ở trên\n",
    "\n",
    "plt.xlabel('Age')\n",
    "plt.ylabel('Estimated Salary')"
   ]
  },
  {
   "cell_type": "code",
   "execution_count": null,
   "id": "39cf517f",
   "metadata": {},
   "outputs": [],
   "source": []
  }
 ],
 "metadata": {
  "kernelspec": {
   "display_name": "Python 3 (ipykernel)",
   "language": "python",
   "name": "python3"
  },
  "language_info": {
   "codemirror_mode": {
    "name": "ipython",
    "version": 3
   },
   "file_extension": ".py",
   "mimetype": "text/x-python",
   "name": "python",
   "nbconvert_exporter": "python",
   "pygments_lexer": "ipython3",
   "version": "3.9.7"
  }
 },
 "nbformat": 4,
 "nbformat_minor": 5
}
