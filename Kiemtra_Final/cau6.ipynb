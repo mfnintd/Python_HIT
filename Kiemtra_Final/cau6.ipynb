{
 "cells": [
  {
   "cell_type": "code",
   "execution_count": 2,
   "id": "37e2de01",
   "metadata": {},
   "outputs": [],
   "source": [
    "import numpy as np\n",
    "import cv2 as cv\n",
    "import time\n"
   ]
  },
  {
   "cell_type": "code",
   "execution_count": 12,
   "id": "eaa85cb1",
   "metadata": {},
   "outputs": [],
   "source": [
    "cap = cv.VideoCapture(0)\n",
    "start_time = time.time()\n",
    "while True:\n",
    "    _, frame = cap.read()\n",
    "    cv.putText(frame, 'Time:' + str(int(time.time() - start_time)),  (100, 100),\n",
    "               fontFace = cv.FONT_HERSHEY_COMPLEX, \n",
    "               fontScale = 0.5, color=(0,255,0))\n",
    "    gray = cv.cvtColor(frame, cv.COLOR_BGR2GRAY)\n",
    "    cv.imshow('Nguyễn Tiến Duy - 2020601607', frame)\n",
    "    cv.imshow('Gray', gray)\n",
    "    if cv.waitKey(1) == ord('x'):\n",
    "        break\n",
    "cap.release()\n",
    "cv.destroyAllWindows()\n"
   ]
  },
  {
   "cell_type": "code",
   "execution_count": null,
   "id": "9597b5c0",
   "metadata": {},
   "outputs": [],
   "source": []
  }
 ],
 "metadata": {
  "kernelspec": {
   "display_name": "Python 3 (ipykernel)",
   "language": "python",
   "name": "python3"
  },
  "language_info": {
   "codemirror_mode": {
    "name": "ipython",
    "version": 3
   },
   "file_extension": ".py",
   "mimetype": "text/x-python",
   "name": "python",
   "nbconvert_exporter": "python",
   "pygments_lexer": "ipython3",
   "version": "3.9.7"
  }
 },
 "nbformat": 4,
 "nbformat_minor": 5
}
